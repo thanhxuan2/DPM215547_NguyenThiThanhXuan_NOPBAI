{
  "nbformat": 4,
  "nbformat_minor": 0,
  "metadata": {
    "colab": {
      "provenance": [],
      "authorship_tag": "ABX9TyN28oFTWkDOybdFHM/l2tGA",
      "include_colab_link": true
    },
    "kernelspec": {
      "name": "python3",
      "display_name": "Python 3"
    },
    "language_info": {
      "name": "python"
    }
  },
  "cells": [
    {
      "cell_type": "markdown",
      "metadata": {
        "id": "view-in-github",
        "colab_type": "text"
      },
      "source": [
        "<a href=\"https://colab.research.google.com/github/thanhxuan2/DPM215547_NguyenThiThanhXuan_NOPBAI/blob/main/BaiTapChuong_2.ipynb\" target=\"_parent\"><img src=\"https://colab.research.google.com/assets/colab-badge.svg\" alt=\"Open In Colab\"/></a>"
      ]
    },
    {
      "cell_type": "code",
      "execution_count": 1,
      "metadata": {
        "colab": {
          "base_uri": "https://localhost:8080/"
        },
        "id": "6yHKNTb6CAIY",
        "outputId": "6b01b786-0ec8-4aab-dd5e-bfbff3695534"
      },
      "outputs": [
        {
          "output_type": "stream",
          "name": "stdout",
          "text": [
            "Mời bạn nhập bán kính hình tròn:2\n",
            "Chu vi = 12.566370614359172\n",
            "Diện tích= 4.0\n"
          ]
        }
      ],
      "source": [
        "import math\n",
        "try:\n",
        " r=float(input(\"Mời bạn nhập bán kính hình tròn:\"))\n",
        " cv=2*math.pi*r\n",
        " dt=r**2\n",
        " print(\"Chu vi =\",cv)\n",
        " print(\"Diện tích=\",dt)\n",
        "except:\n",
        " print(\"Lỗi rồi!\")"
      ]
    },
    {
      "cell_type": "code",
      "source": [
        "t=int(input(\"Nhập số giây:\"))\n",
        "hour=(t//3600)%24\n",
        "minute=(t%3600)//60\n",
        "second=(t%3600)%60\n",
        "print(hour,\":\",minute,\":\",second)"
      ],
      "metadata": {
        "colab": {
          "base_uri": "https://localhost:8080/"
        },
        "id": "fX1QfYQqCWYi",
        "outputId": "07172b1a-9693-4d9d-832b-391ec7994fa7"
      },
      "execution_count": 2,
      "outputs": [
        {
          "output_type": "stream",
          "name": "stdout",
          "text": [
            "Nhập số giây:4567\n",
            "1 : 16 : 7\n"
          ]
        }
      ]
    },
    {
      "cell_type": "code",
      "source": [
        "toan=float(input(\"Nhập điểm Toán:\"))\n",
        "ly=float(input(\"Nhập điểm lý:\"))\n",
        "hoa=float(input(\"Nhập điểm hóa:\"))\n",
        "dtb=(toan+ly+hoa)/3\n",
        "print(\"Điểm trung bình=\",dtb)\n",
        "print(\"Điểm trung bình=\",round(dtb,2))"
      ],
      "metadata": {
        "colab": {
          "base_uri": "https://localhost:8080/"
        },
        "id": "4G1X-gIKCe8T",
        "outputId": "c794e3c7-ce78-43fa-bfac-f64ef2e977e9"
      },
      "execution_count": 4,
      "outputs": [
        {
          "output_type": "stream",
          "name": "stdout",
          "text": [
            "Nhập điểm Toán:10\n",
            "Nhập điểm lý:5\n",
            "Nhập điểm hóa:4\n",
            "Điểm trung bình= 6.333333333333333\n",
            "Điểm trung bình= 6.33\n"
          ]
        }
      ]
    }
  ]
}