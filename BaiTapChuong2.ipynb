{
  "nbformat": 4,
  "nbformat_minor": 0,
  "metadata": {
    "colab": {
      "provenance": [],
      "authorship_tag": "ABX9TyNo6tbyVeMOrvM7ad0TTQmt",
      "include_colab_link": true
    },
    "kernelspec": {
      "name": "python3",
      "display_name": "Python 3"
    },
    "language_info": {
      "name": "python"
    }
  },
  "cells": [
    {
      "cell_type": "markdown",
      "metadata": {
        "id": "view-in-github",
        "colab_type": "text"
      },
      "source": [
        "<a href=\"https://colab.research.google.com/github/thanhxuan2/DPM215547_NguyenThiThanhXuan_NOPBAI/blob/main/BaiTapChuong2.ipynb\" target=\"_parent\"><img src=\"https://colab.research.google.com/assets/colab-badge.svg\" alt=\"Open In Colab\"/></a>"
      ]
    },
    {
      "cell_type": "code",
      "execution_count": null,
      "metadata": {
        "colab": {
          "base_uri": "https://localhost:8080/"
        },
        "id": "6yHKNTb6CAIY",
        "outputId": "6b01b786-0ec8-4aab-dd5e-bfbff3695534"
      },
      "outputs": [
        {
          "output_type": "stream",
          "name": "stdout",
          "text": [
            "Mời bạn nhập bán kính hình tròn:2\n",
            "Chu vi = 12.566370614359172\n",
            "Diện tích= 4.0\n"
          ]
        }
      ],
      "source": [
        "#1\n",
        "\n",
        "import math\n",
        "try:\n",
        " r=float(input(\"Mời bạn nhập bán kính hình tròn:\"))\n",
        " cv=2*math.pi*r\n",
        " dt=r**2\n",
        " print(\"Chu vi =\",cv)\n",
        " print(\"Diện tích=\",dt)\n",
        "except:\n",
        " print(\"Lỗi rồi!\")"
      ]
    },
    {
      "cell_type": "code",
      "source": [
        "#2\n",
        "\n",
        "t=int(input(\"Nhập số giây:\"))\n",
        "hour=(t//3600)%24\n",
        "minute=(t%3600)//60\n",
        "second=(t%3600)%60\n",
        "print(hour,\":\",minute,\":\",second)"
      ],
      "metadata": {
        "colab": {
          "base_uri": "https://localhost:8080/"
        },
        "id": "fX1QfYQqCWYi",
        "outputId": "07172b1a-9693-4d9d-832b-391ec7994fa7"
      },
      "execution_count": null,
      "outputs": [
        {
          "output_type": "stream",
          "name": "stdout",
          "text": [
            "Nhập số giây:4567\n",
            "1 : 16 : 7\n"
          ]
        }
      ]
    },
    {
      "cell_type": "code",
      "source": [
        "#3\n",
        "\n",
        "toan=float(input(\"Nhập điểm Toán:\"))\n",
        "ly=float(input(\"Nhập điểm lý:\"))\n",
        "hoa=float(input(\"Nhập điểm hóa:\"))\n",
        "dtb=(toan+ly+hoa)/3\n",
        "print(\"Điểm trung bình=\",dtb)\n",
        "print(\"Điểm trung bình=\",round(dtb,2))"
      ],
      "metadata": {
        "colab": {
          "base_uri": "https://localhost:8080/"
        },
        "id": "4G1X-gIKCe8T",
        "outputId": "c794e3c7-ce78-43fa-bfac-f64ef2e977e9"
      },
      "execution_count": null,
      "outputs": [
        {
          "output_type": "stream",
          "name": "stdout",
          "text": [
            "Nhập điểm Toán:10\n",
            "Nhập điểm lý:5\n",
            "Nhập điểm hóa:4\n",
            "Điểm trung bình= 6.333333333333333\n",
            "Điểm trung bình= 6.33\n"
          ]
        }
      ]
    },
    {
      "cell_type": "code",
      "source": [
        "#4\n",
        "\n",
        "# Số nguyên (int)\n",
        "a = 10\n",
        "print(a, type(a))\n",
        "\n",
        "# Số thực (float)\n",
        "b = 3.14\n",
        "print(b, type(b))\n",
        "\n",
        "# Số phức (complex)\n",
        "c = 2 + 3j\n",
        "print(c, type(c))\n",
        "\n",
        "# Chuỗi (string)\n",
        "s = \"Hello Python\"\n",
        "print(s, type(s))\n",
        "\n",
        "# Boolean (luận lý)\n",
        "flag = True\n",
        "print(flag, type(flag))\n",
        "\n",
        "# Danh sách (list)\n",
        "lst = [1, 2, 3]\n",
        "print(lst, type(lst))\n",
        "\n",
        "# Bộ (tuple)\n",
        "tup = (1, 2, 3)\n",
        "print(tup, type(tup))\n",
        "\n",
        "# Tập hợp (set)\n",
        "st = {1, 2, 3}\n",
        "print(st, type(st))\n",
        "\n",
        "# Từ điển (dictionary)\n",
        "d = {\"a\": 1, \"b\": 2}\n",
        "print(d, type(d))\n",
        "\n",
        "\n"
      ],
      "metadata": {
        "id": "tz-CNlJtG2Ga",
        "colab": {
          "base_uri": "https://localhost:8080/"
        },
        "outputId": "8b4feecb-4dc9-4b7b-c0c2-63af5cea4c0a"
      },
      "execution_count": 5,
      "outputs": [
        {
          "output_type": "stream",
          "name": "stdout",
          "text": [
            "10 <class 'int'>\n",
            "3.14 <class 'float'>\n",
            "(2+3j) <class 'complex'>\n",
            "Hello Python <class 'str'>\n",
            "True <class 'bool'>\n",
            "[1, 2, 3] <class 'list'>\n",
            "(1, 2, 3) <class 'tuple'>\n",
            "{1, 2, 3} <class 'set'>\n",
            "{'a': 1, 'b': 2} <class 'dict'>\n"
          ]
        }
      ]
    },
    {
      "cell_type": "code",
      "source": [
        "#5\n",
        "\n",
        "# Đây là ghi chú 1 dòng\n",
        "\n",
        "\n",
        "'''\n",
        "Đây là ghi chú\n",
        "nhiều dòng\n",
        "'''\n"
      ],
      "metadata": {
        "colab": {
          "base_uri": "https://localhost:8080/",
          "height": 36
        },
        "id": "9sogZakoBYts",
        "outputId": "9baf209e-5940-4031-ea8c-bba91fb20f72"
      },
      "execution_count": 6,
      "outputs": [
        {
          "output_type": "execute_result",
          "data": {
            "text/plain": [
              "'\\nĐây là ghi chú\\nnhiều dòng\\n'"
            ],
            "application/vnd.google.colaboratory.intrinsic+json": {
              "type": "string"
            }
          },
          "metadata": {},
          "execution_count": 6
        }
      ]
    },
    {
      "cell_type": "markdown",
      "source": [
        "/ → chia lấy kết quả thực (float).\n",
        "\n",
        "// → chia lấy phần nguyên (floor division).\n",
        "\n",
        "% → chia lấy phần dư (modulo).\n",
        "\n",
        "** → lũy thừa.\n",
        "\n",
        "and → toán tử logic “và”.\n",
        "\n",
        "or → toán tử logic “hoặc”.\n",
        "\n",
        "is → so sánh cùng một đối tượng trong bộ nhớ (không chỉ so sánh giá trị)."
      ],
      "metadata": {
        "id": "e2wTIdINCfEq"
      }
    },
    {
      "cell_type": "code",
      "source": [
        "#7Trình bày một số cách nhập dữ liệu từ bàn phím.\n",
        "\n",
        "# Nhập chuỗi\n",
        "s = input(\"Nhập chuỗi: \")\n",
        "\n",
        "# Nhập số nguyên\n",
        "n = int(input(\"Nhập số nguyên: \"))\n",
        "\n",
        "# Nhập số thực\n",
        "f = float(input(\"Nhập số thực: \"))\n",
        "\n",
        "# Nhập nhiều giá trị 1 dòng\n",
        "a, b = map(int, input(\"Nhập 2 số cách nhau bởi khoảng trắng: \").split())\n"
      ],
      "metadata": {
        "colab": {
          "base_uri": "https://localhost:8080/"
        },
        "id": "965RqwooCi4R",
        "outputId": "bd1dff66-b068-45da-af78-5feb17586936"
      },
      "execution_count": 8,
      "outputs": [
        {
          "name": "stdout",
          "output_type": "stream",
          "text": [
            "Nhập chuỗi: 111111\n",
            "Nhập số nguyên: 23\n",
            "Nhập số thực: 4.5\n",
            "Nhập 2 số cách nhau bởi khoảng trắng: 2 8\n"
          ]
        }
      ]
    },
    {
      "cell_type": "code",
      "source": [
        "#8 Trình bày các loại lỗi khi lập trình và cách bắt lỗi trong Python.?\n",
        "\n",
        "'''\n",
        "Lỗi cú pháp (SyntaxError): sai chính tả, thiếu dấu.\n",
        "\n",
        "Lỗi runtime (RuntimeError): lỗi khi chạy, ví dụ chia cho 0.\n",
        "\n",
        "Lỗi logic: chương trình chạy nhưng kết quả sai.\n",
        "\n",
        "'''\n",
        "\n",
        "try:\n",
        "    x = int(input(\"Nhập số: \"))\n",
        "    y = 10 / x\n",
        "except ZeroDivisionError:\n",
        "    print(\"Không được chia cho 0\")\n",
        "except ValueError:\n",
        "    print(\"Phải nhập số nguyên\")\n"
      ],
      "metadata": {
        "colab": {
          "base_uri": "https://localhost:8080/"
        },
        "id": "ef07nc7PCyk1",
        "outputId": "a4471260-0802-4db0-c21f-e0630af444d9"
      },
      "execution_count": 10,
      "outputs": [
        {
          "output_type": "stream",
          "name": "stdout",
          "text": [
            "Nhập số: 0\n",
            "Không được chia cho 0\n"
          ]
        }
      ]
    },
    {
      "cell_type": "code",
      "source": [
        "#9:Giải thích kết quả tính toán của các biểu thức?\n",
        "\n",
        "'''\n",
        "Yêu cầu:\n",
        "Cho các biến với giá trị\n",
        "i1 = 2\n",
        "i2 = 5\n",
        "i3 = -3\n",
        "d1 = 2.0\n",
        "d2 = 5.0\n",
        "d3 = -0.5\n",
        "'''\n",
        "\n",
        "i1 = 2\n",
        "i2 = 5\n",
        "i3 = -3\n",
        "d1 = 2.0\n",
        "d2 = 5.0\n",
        "d3 = -0.5\n",
        "\n",
        "print(\"(a) i1 + (i2 * i3) =\", i1 + (i2 * i3))\n",
        "print(\"(b) i1 * (i2 + i3) =\", i1 * (i2 + i3))\n",
        "print(\"(c) i1 / (i2 + i3) =\", i1 / (i2 + i3))\n",
        "print(\"(d) i1 // (i2 + i3) =\", i1 // (i2 + i3))\n",
        "print(\"(e) i1 / i2 + i3 =\", i1 / i2 + i3)\n",
        "print(\"(f) i1 // i2 + i3 =\", i1 // i2 + i3)\n",
        "print(\"(g) 3 + 4 + 5 / 3 =\", 3 + 4 + 5 / 3)\n",
        "print(\"(h) 3 + 4 + 5 // 3 =\", 3 + 4 + 5 // 3)\n",
        "print(\"(i) (3 + 4 + 5) / 3 =\", (3 + 4 + 5) / 3)\n",
        "print(\"(j) (3 + 4 + 5) // 3 =\", (3 + 4 + 5) // 3)\n",
        "print(\"(k) d1 + (d2 * d3) =\", d1 + (d2 * d3))\n",
        "print(\"(l) d1 + d2 * d3 =\", d1 + d2 * d3)\n",
        "print(\"(m) d1 / d2 - d3 =\", d1 / d2 - d3)\n",
        "print(\"(n) d1 / (d2 - d3) =\", d1 / (d2 - d3))\n",
        "print(\"(o) d1 + d2 + d3 / 3 =\", d1 + d2 + d3 / 3)\n",
        "print(\"(p) (d1 + d2 + d3) / 3 =\", (d1 + d2 + d3) / 3)\n",
        "print(\"(q) d1 + d2 + (d3 / 3) =\", d1 + d2 + (d3 / 3))\n",
        "print(\"(r) 3 * (d1 + d2) * (d1 - d3) =\", 3 * (d1 + d2) * (d1 - d3))\n",
        "\n",
        "\n",
        "\n"
      ],
      "metadata": {
        "colab": {
          "base_uri": "https://localhost:8080/"
        },
        "id": "mI0ws6FNC6Hl",
        "outputId": "be06cab6-8443-4d38-d3fa-78fde0560346"
      },
      "execution_count": 14,
      "outputs": [
        {
          "output_type": "stream",
          "name": "stdout",
          "text": [
            "(a) i1 + (i2 * i3) = -13\n",
            "(b) i1 * (i2 + i3) = 4\n",
            "(c) i1 / (i2 + i3) = 1.0\n",
            "(d) i1 // (i2 + i3) = 1\n",
            "(e) i1 / i2 + i3 = -2.6\n",
            "(f) i1 // i2 + i3 = -3\n",
            "(g) 3 + 4 + 5 / 3 = 8.666666666666666\n",
            "(h) 3 + 4 + 5 // 3 = 8\n",
            "(i) (3 + 4 + 5) / 3 = 4.0\n",
            "(j) (3 + 4 + 5) // 3 = 4\n",
            "(k) d1 + (d2 * d3) = -0.5\n",
            "(l) d1 + d2 * d3 = -0.5\n",
            "(m) d1 / d2 - d3 = 0.9\n",
            "(n) d1 / (d2 - d3) = 0.36363636363636365\n",
            "(o) d1 + d2 + d3 / 3 = 6.833333333333333\n",
            "(p) (d1 + d2 + d3) / 3 = 2.1666666666666665\n",
            "(q) d1 + d2 + (d3 / 3) = 6.833333333333333\n",
            "(r) 3 * (d1 + d2) * (d1 - d3) = 52.5\n"
          ]
        }
      ]
    },
    {
      "cell_type": "markdown",
      "source": [
        "Caau10:Hãy viết ngắn gọn lại các lệnh dưới đây\n",
        "Yêu cầu:\n",
        "Cho các lệnh ban đầu:\n",
        "(a) x = x + 1\n",
        "(b) x = x / 2\n",
        "(c) x = x – 1\n",
        "(d) x = x + y\n",
        "(e) x = x - (y + 7)\n",
        "Trang 21/84\n",
        "(f) x = 2*x\n",
        "(g) number_of_closed_cases = number_of_closed_cases + 2*ncc\n",
        "\n",
        "Python hỗ trợ toán tử gán rút gọn:\n",
        "\n",
        "(a) x = x + 1 → x += 1\n",
        "(b) x = x / 2 → x /= 2\n",
        "(c) x = x - 1 → x -= 1\n",
        "(d) x = x + y → x += y\n",
        "(e) x = x - (y + 7) → x -= (y + 7)\n",
        "(f) x = 2 * x → x *= 2\n",
        "(g) number_of_closed_cases = number_of_closed_cases + 2*ncc\n",
        "→ number_of_closed_cases += 2*ncc"
      ],
      "metadata": {
        "id": "srbLSYc9EdZI"
      }
    }
  ]
}