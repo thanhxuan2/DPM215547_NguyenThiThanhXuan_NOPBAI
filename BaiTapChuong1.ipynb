{
  "nbformat": 4,
  "nbformat_minor": 0,
  "metadata": {
    "colab": {
      "provenance": [],
      "mount_file_id": "1GJDRcHEa2ZddA84SnvPeY9Fqf6rFrbCP",
      "authorship_tag": "ABX9TyNLctQtzCMEoj5vmFjvrJLm",
      "include_colab_link": true
    },
    "kernelspec": {
      "name": "python3",
      "display_name": "Python 3"
    },
    "language_info": {
      "name": "python"
    }
  },
  "cells": [
    {
      "cell_type": "markdown",
      "metadata": {
        "id": "view-in-github",
        "colab_type": "text"
      },
      "source": [
        "<a href=\"https://colab.research.google.com/github/thanhxuan2/DPM215547_NguyenThiThanhXuan_NOPBAI/blob/main/BaiTapChuong1.ipynb\" target=\"_parent\"><img src=\"https://colab.research.google.com/assets/colab-badge.svg\" alt=\"Open In Colab\"/></a>"
      ]
    },
    {
      "cell_type": "code",
      "execution_count": null,
      "metadata": {
        "colab": {
          "base_uri": "https://localhost:8080/"
        },
        "id": "WJm0ZuF6HOH1",
        "outputId": "9fb21e8c-aaa9-4dd9-c1d4-90a9d7c5312f"
      },
      "outputs": [
        {
          "output_type": "stream",
          "name": "stdout",
          "text": [
            "Chào các bạn!\n"
          ]
        }
      ],
      "source": [
        "print(\"Chào các bạn!\")"
      ]
    },
    {
      "cell_type": "code",
      "source": [
        "print(\"Họ và tên: Nguyễn Thị Thanh Xuân\")"
      ],
      "metadata": {
        "colab": {
          "base_uri": "https://localhost:8080/"
        },
        "id": "nA7k7XlMHh-n",
        "outputId": "933b6781-89d9-4f45-86a9-7859582415e0"
      },
      "execution_count": null,
      "outputs": [
        {
          "output_type": "stream",
          "name": "stdout",
          "text": [
            "Họ và tên: Nguyễn Thị Thanh Xuân\n"
          ]
        }
      ]
    },
    {
      "cell_type": "code",
      "source": [
        "print ('Albert Einst đã từng nói : Một người không bao giờ mắc sai lầm không bao giờ thử bất kỳ điều gì mới .')"
      ],
      "metadata": {
        "id": "rP6KW4a_JHXI",
        "colab": {
          "base_uri": "https://localhost:8080/"
        },
        "outputId": "485fc3fe-39ad-4817-b250-f60e644cabf1"
      },
      "execution_count": null,
      "outputs": [
        {
          "output_type": "stream",
          "name": "stdout",
          "text": [
            "Albert Einst đã từng nói : Một người không bao giờ mắc sai lầm không bao giờ thử bất kỳ điều gì mới .\n"
          ]
        }
      ]
    },
    {
      "cell_type": "code",
      "source": [
        "if 5>2:\n",
        " print ('Five is greater than two!')"
      ],
      "metadata": {
        "id": "HT3iJsSJHisS",
        "colab": {
          "base_uri": "https://localhost:8080/"
        },
        "outputId": "330de711-70a3-4cab-bee1-61d8f12aab74"
      },
      "execution_count": null,
      "outputs": [
        {
          "output_type": "stream",
          "name": "stdout",
          "text": [
            "Five is greater than two!\n"
          ]
        }
      ]
    },
    {
      "cell_type": "code",
      "source": [
        "total = 1 +\\\n",
        "2 + \\\n",
        "3\n",
        "print (total); print ('Hello Python!')"
      ],
      "metadata": {
        "colab": {
          "base_uri": "https://localhost:8080/"
        },
        "id": "-4UXnMMdTPck",
        "outputId": "453fb675-56d2-4c9c-95a8-59ee14c80750"
      },
      "execution_count": null,
      "outputs": [
        {
          "output_type": "stream",
          "name": "stdout",
          "text": [
            "6\n",
            "Hello Python!\n"
          ]
        }
      ]
    },
    {
      "cell_type": "code",
      "source": [
        "#chương trình tính tổng 2 số\n",
        "\n",
        "#Nhập 2 số từ bàn phím\n",
        "so1=int(input(\"Nhập số thứ 1:\"))\n",
        "so2=int(input(\"Nhập số thứ 2:\"))\n",
        "\n",
        "#tinhtong\n",
        "tong=so1 + so2\n",
        "\n",
        "#hiển thị kết quả\n",
        "print(\"Tổng hai số là:\",tong)"
      ],
      "metadata": {
        "colab": {
          "base_uri": "https://localhost:8080/"
        },
        "id": "UXhY_LutTfYI",
        "outputId": "a8aba222-e663-4ca0-aeaa-ea6e8d22bc7f"
      },
      "execution_count": null,
      "outputs": [
        {
          "output_type": "stream",
          "name": "stdout",
          "text": [
            "Nhập số thứ 1:5\n",
            "Nhập số thứ 2:6\n",
            "Tổng hai số là: 11\n"
          ]
        }
      ]
    },
    {
      "cell_type": "code",
      "source": [
        "#Nhập dữ liệu từ bàn phím\n",
        "name = input(\"Nhập tên của bạn :\")\n",
        "print(\"Xin Chào ,\",name)\n",
        "\n",
        "age = int(input(\"Nhập tuổi của bạn :\"))\n",
        "print(\"Tuổi của bạn là  ,\",age)"
      ],
      "metadata": {
        "colab": {
          "base_uri": "https://localhost:8080/"
        },
        "id": "qOfv5Df7WEd7",
        "outputId": "782e17ba-9e4e-4344-e7dd-ce491aa3491e"
      },
      "execution_count": null,
      "outputs": [
        {
          "output_type": "stream",
          "name": "stdout",
          "text": [
            "Nhập tên của bạn :Xuan \n",
            "Xin Chào , Xuan \n",
            "Nhập tuổi của bạn :20\n",
            "Tuổi của bạn là  , 20\n"
          ]
        }
      ]
    },
    {
      "cell_type": "code",
      "source": [
        "x = 15\n",
        "if x > 10:\n",
        "    print(\"x lớn hơn 10\")\n",
        "    print (\"Đây là 1 khối lệnh \")"
      ],
      "metadata": {
        "colab": {
          "base_uri": "https://localhost:8080/"
        },
        "id": "kYKP5NaTUlxc",
        "outputId": "2f35c5dd-01b5-49fc-bad5-afda3f80eb0e"
      },
      "execution_count": null,
      "outputs": [
        {
          "output_type": "stream",
          "name": "stdout",
          "text": [
            "x lớn hơn 10\n",
            "Đây là 1 khối lệnh \n"
          ]
        }
      ]
    },
    {
      "cell_type": "code",
      "source": [
        "#In dữ liệu ra màn hình\n",
        "\n",
        "name =\"Xuân\"\n",
        "age = 20\n",
        "height= 1.65\n",
        "\n",
        "print (\"Tên:\",name)\n",
        "print (\"Tuổi:\",age)\n",
        "print (\"Chiều cao:\",height)"
      ],
      "metadata": {
        "colab": {
          "base_uri": "https://localhost:8080/"
        },
        "id": "bWoHrh1CW_d1",
        "outputId": "f795ca91-75b0-4788-ed4a-d2e79679e344"
      },
      "execution_count": null,
      "outputs": [
        {
          "output_type": "stream",
          "name": "stdout",
          "text": [
            "Tên: Xuân\n",
            "Tuổi: 20\n",
            "Chiều cao: 1.65\n"
          ]
        }
      ]
    },
    {
      "cell_type": "code",
      "source": [
        "import math\n",
        "\n",
        "number= 16\n",
        "square_root =math.sqrt(number)\n",
        "\n",
        "print (\"Căn bậc hai của\", number,\"là\",square_root)"
      ],
      "metadata": {
        "colab": {
          "base_uri": "https://localhost:8080/"
        },
        "id": "vZSiekXPYCZ3",
        "outputId": "0e896f66-b6e3-43ef-f1b6-ed4ade52e1ae"
      },
      "execution_count": null,
      "outputs": [
        {
          "output_type": "stream",
          "name": "stdout",
          "text": [
            "Căn bậc hai của 16 là 4.0\n"
          ]
        }
      ]
    }
  ]
}